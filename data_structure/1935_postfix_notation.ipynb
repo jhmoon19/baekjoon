{
 "cells": [
  {
   "cell_type": "code",
   "execution_count": 5,
   "id": "atomic-bunch",
   "metadata": {},
   "outputs": [
    {
     "name": "stdout",
     "output_type": "stream",
     "text": [
      "5\n",
      "ABC*+DE/-\n",
      "1\n",
      "2\n",
      "3\n",
      "4\n",
      "5\n",
      "0.80\n"
     ]
    }
   ],
   "source": [
    "#백준 1935번 후위표기식 2\n",
    "\n",
    "#피연산자 갯수\n",
    "n = int(input())\n",
    "\n",
    "#미지수를 딕셔너리로 저장\n",
    "unknown_quantity = dict()\n",
    "\n",
    "#후위표기식\n",
    "post_fix = input()\n",
    "\n",
    "#후위표기식 값 처리를 위한 스택\n",
    "stack = []\n",
    "\n",
    "#미지수 값을 딕셔너리에 저장\n",
    "for i in range(n):\n",
    "    unknown_quantity[chr(i+65)] = int(input())\n",
    "    \n",
    "for i in range(len(post_fix)):\n",
    "    \n",
    "    #연산자 - 피연산자 두개를 꺼내고 계산 후 다시 스택에 push\n",
    "    \n",
    "    if i != len(post_fix) -1:\n",
    "        a,b = 0,0\n",
    "        if post_fix[i] == '+':\n",
    "            a,b = stack.pop(),stack.pop()\n",
    "            stack.append(b+a)\n",
    "        elif post_fix[i] == '-':\n",
    "            a,b = stack.pop(),stack.pop()\n",
    "            stack.append(b-a)\n",
    "        elif post_fix[i] == '*':\n",
    "            a,b = stack.pop(),stack.pop()\n",
    "            stack.append(b*a)\n",
    "        elif post_fix[i] == '/':\n",
    "            a,b = stack.pop(),stack.pop()\n",
    "            stack.append(round(b/a,2))\n",
    "\n",
    "        #피연산자 - 스택에 삽입\n",
    "        else :\n",
    "            stack.append(unknown_quantity[post_fix[i]])\n",
    "    else :\n",
    "        print(\"%.2f\"%stack.pop())"
   ]
  },
  {
   "cell_type": "code",
   "execution_count": 11,
   "id": "magnetic-stable",
   "metadata": {},
   "outputs": [
    {
     "name": "stdout",
     "output_type": "stream",
     "text": [
      "5\n",
      "ABC*+DE/-\n",
      "1\n",
      "2\n",
      "3\n",
      "4\n",
      "5\n",
      "6.20\n"
     ]
    }
   ],
   "source": [
    "n = int(input())\n",
    "data = [*input()]\n",
    "numbers = [int(input()) for _ in range(n)]\n",
    "\n",
    "stack = []\n",
    "\n",
    "for d in data:\n",
    "    if d in ['+', '-', '*', '/']:\n",
    "        b = stack.pop()\n",
    "        a = stack.pop()\n",
    "        stack.append(eval(f'{a}{d}{b}'))\n",
    "    else:\n",
    "        stack.append(numbers[ord(d)-ord('A')])\n",
    "        \n",
    "print(f'{stack[0]:.2f}')"
   ]
  }
 ],
 "metadata": {
  "kernelspec": {
   "display_name": "Python 3 (ipykernel)",
   "language": "python",
   "name": "python3"
  },
  "language_info": {
   "codemirror_mode": {
    "name": "ipython",
    "version": 3
   },
   "file_extension": ".py",
   "mimetype": "text/x-python",
   "name": "python",
   "nbconvert_exporter": "python",
   "pygments_lexer": "ipython3",
   "version": "3.9.13"
  }
 },
 "nbformat": 4,
 "nbformat_minor": 5
}

{
 "cells": [
  {
   "cell_type": "code",
   "execution_count": 1,
   "id": "shaped-disclosure",
   "metadata": {},
   "outputs": [
    {
     "name": "stdout",
     "output_type": "stream",
     "text": [
      "8\n",
      "8 = 3 + 5\n",
      "20\n",
      "20 = 3 + 17\n",
      "42\n",
      "42 = 5 + 37\n",
      "0\n"
     ]
    }
   ],
   "source": [
    "# 6588: 골드바흐의 추측 - 에라토스테네스의 체\n",
    "\n",
    "prime_check = [False, False] + [True]*1000000\n",
    "\n",
    "for i in range(2, int(1000000**0.5)+1):\n",
    "    if prime_check[i]:\n",
    "        for j in range(i*2, 1000001, i):\n",
    "            prime_check[j] = False\n",
    "            \n",
    "while True:\n",
    "    n = int(input())\n",
    "    if n == 0:\n",
    "        break\n",
    "    for i in range(3, int(n/2)+1):\n",
    "        if prime_check[i]&prime_check[n-i]:\n",
    "            print(f'{n} = {i} + {n-i}')\n",
    "            break\n",
    "    else:\n",
    "        print(\"Goldbach's conjecture is wrong.\")"
   ]
  },
  {
   "cell_type": "markdown",
   "id": "bd44a7eb",
   "metadata": {},
   "source": [
    "** 시간 초과 문제를 해결할 방책 필요...!!"
   ]
  }
 ],
 "metadata": {
  "kernelspec": {
   "display_name": "Python 3 (ipykernel)",
   "language": "python",
   "name": "python3"
  },
  "language_info": {
   "codemirror_mode": {
    "name": "ipython",
    "version": 3
   },
   "file_extension": ".py",
   "mimetype": "text/x-python",
   "name": "python",
   "nbconvert_exporter": "python",
   "pygments_lexer": "ipython3",
   "version": "3.9.13"
  }
 },
 "nbformat": 4,
 "nbformat_minor": 5
}

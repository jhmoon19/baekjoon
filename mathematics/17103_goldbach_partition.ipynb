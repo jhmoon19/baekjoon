{
 "cells": [
  {
   "cell_type": "code",
   "execution_count": 1,
   "id": "554571e6",
   "metadata": {},
   "outputs": [
    {
     "name": "stdout",
     "output_type": "stream",
     "text": [
      "5\n",
      "6\n",
      "1\n",
      "8\n",
      "1\n",
      "10\n",
      "2\n",
      "12\n",
      "1\n",
      "100\n",
      "6\n"
     ]
    }
   ],
   "source": [
    "# 17103: 골드바흐의 파티션 - 에라토스테네스의 체\n",
    "\n",
    "n_max = 1000000\n",
    "\n",
    "prime = [0,0] + [1]*(n_max-1)\n",
    "\n",
    "for i in range(2, 1001):\n",
    "    if prime[i]: prime[i+i::i] = [0]*(n_max//i-1)\n",
    "            \n",
    "for _ in range(int(input())):\n",
    "    n = int(input())\n",
    "    result = 0\n",
    "    if n == 0: break\n",
    "    for i in range(2, n//2+1):\n",
    "        if prime[i] and prime[n-i]:\n",
    "            result += 1\n",
    "            continue\n",
    "    print(result)"
   ]
  }
 ],
 "metadata": {
  "kernelspec": {
   "display_name": "Python 3 (ipykernel)",
   "language": "python",
   "name": "python3"
  },
  "language_info": {
   "codemirror_mode": {
    "name": "ipython",
    "version": 3
   },
   "file_extension": ".py",
   "mimetype": "text/x-python",
   "name": "python",
   "nbconvert_exporter": "python",
   "pygments_lexer": "ipython3",
   "version": "3.9.13"
  }
 },
 "nbformat": 4,
 "nbformat_minor": 5
}

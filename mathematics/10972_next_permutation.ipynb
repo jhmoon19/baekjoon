{
 "cells": [
  {
   "cell_type": "code",
   "execution_count": 9,
   "id": "24711b57",
   "metadata": {},
   "outputs": [
    {
     "name": "stdout",
     "output_type": "stream",
     "text": [
      "4\n",
      "4 1 2 3\n",
      "3 4 2 1\n"
     ]
    }
   ],
   "source": [
    "# 10972: 다음 순열 - 순열 규칙, 수학\n",
    "\n",
    "n = int(input())\n",
    "s = list(map(int, input().split()))\n",
    "x = 0 \n",
    "\n",
    "for i in range(n-1, 0, -1):\n",
    "    if s[i-1] > s[i]:\n",
    "        x = i-1\n",
    "        break\n",
    "        \n",
    "for i in range(n-1, 0, -1):\n",
    "    if s[x] > s[i]:\n",
    "        s[x], s[i] = s[i], s[x]\n",
    "        s = s[:x+1] + sorted(s[x+1:], reverse = True)\n",
    "        print(*s)\n",
    "        break\n",
    "else:\n",
    "    print(-1)"
   ]
  }
 ],
 "metadata": {
  "kernelspec": {
   "display_name": "Python 3 (ipykernel)",
   "language": "python",
   "name": "python3"
  },
  "language_info": {
   "codemirror_mode": {
    "name": "ipython",
    "version": 3
   },
   "file_extension": ".py",
   "mimetype": "text/x-python",
   "name": "python",
   "nbconvert_exporter": "python",
   "pygments_lexer": "ipython3",
   "version": "3.9.13"
  }
 },
 "nbformat": 4,
 "nbformat_minor": 5
}

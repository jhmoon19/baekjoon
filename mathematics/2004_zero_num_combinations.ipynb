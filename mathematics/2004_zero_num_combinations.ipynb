{
 "cells": [
  {
   "cell_type": "code",
   "execution_count": 1,
   "id": "d784e351",
   "metadata": {},
   "outputs": [
    {
     "name": "stdout",
     "output_type": "stream",
     "text": [
      "25 12\n",
      "2\n"
     ]
    }
   ],
   "source": [
    "# 2004: 조합 0의 개수\n",
    "\n",
    "n,m = map(int, input().split())\n",
    "\n",
    "def Count(a,b):\n",
    "    c = 0\n",
    "    while a > 0:\n",
    "        a = a//b\n",
    "        c += a\n",
    "    return c\n",
    "\n",
    "cnt_2 = Count(n,2) - (Count(m,2)+Count(n-m,2))\n",
    "cnt_5 = Count(n,5) - (Count(m,5)+Count(n-m,5))\n",
    "\n",
    "print(min(cnt_2, cnt_5))"
   ]
  }
 ],
 "metadata": {
  "kernelspec": {
   "display_name": "Python 3 (ipykernel)",
   "language": "python",
   "name": "python3"
  },
  "language_info": {
   "codemirror_mode": {
    "name": "ipython",
    "version": 3
   },
   "file_extension": ".py",
   "mimetype": "text/x-python",
   "name": "python",
   "nbconvert_exporter": "python",
   "pygments_lexer": "ipython3",
   "version": "3.9.13"
  }
 },
 "nbformat": 4,
 "nbformat_minor": 5
}

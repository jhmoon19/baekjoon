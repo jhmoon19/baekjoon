{
 "cells": [
  {
   "cell_type": "code",
   "execution_count": 1,
   "id": "47873e54",
   "metadata": {},
   "outputs": [
    {
     "name": "stdout",
     "output_type": "stream",
     "text": [
      "3\n",
      "10 12 3 9\n",
      "33\n",
      "10 12 7 2\n",
      "-1\n",
      "13 11 5 6\n",
      "83\n"
     ]
    }
   ],
   "source": [
    "# 6064: 카잉달력 - 수학, 중국인의 나머지 정리\n",
    "\n",
    "def kain(m,n,x,y):\n",
    "    while x <= m*n:\n",
    "        if (x-y)%n == 0:\n",
    "            return x\n",
    "        x += m\n",
    "    return -1\n",
    "\n",
    "for _ in range(int(input())):\n",
    "    m,n,x,y = map(int, input().split())\n",
    "    print(kain(m,n,x,y))"
   ]
  }
 ],
 "metadata": {
  "kernelspec": {
   "display_name": "Python 3 (ipykernel)",
   "language": "python",
   "name": "python3"
  },
  "language_info": {
   "codemirror_mode": {
    "name": "ipython",
    "version": 3
   },
   "file_extension": ".py",
   "mimetype": "text/x-python",
   "name": "python",
   "nbconvert_exporter": "python",
   "pygments_lexer": "ipython3",
   "version": "3.9.13"
  }
 },
 "nbformat": 4,
 "nbformat_minor": 5
}

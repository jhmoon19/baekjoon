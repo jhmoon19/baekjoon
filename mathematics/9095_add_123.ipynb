{
 "cells": [
  {
   "cell_type": "code",
   "execution_count": 1,
   "id": "6bd12fc6",
   "metadata": {},
   "outputs": [
    {
     "name": "stdout",
     "output_type": "stream",
     "text": [
      "3\n",
      "4\n",
      "7\n",
      "7\n",
      "44\n",
      "10\n",
      "274\n"
     ]
    }
   ],
   "source": [
    "# 9095: 1,2,3 더하기 - 다이나믹 프로그래밍\n",
    "\n",
    "# 4를 1,2,3의 합으로 나타내는 방법: 7가지 \n",
    "for _ in range(int(input())):\n",
    "    n = int(input())\n",
    "    listA = [n]\n",
    "\n",
    "    while True:\n",
    "        listB = []\n",
    "        for i in listA:\n",
    "            if i >= 3:\n",
    "                listB.append(i-1)\n",
    "                listB.append(i-2)\n",
    "                listB.append(i-3)\n",
    "            elif i >= 2:\n",
    "                listB.append(i-1)\n",
    "                listB.append(i-2)\n",
    "            elif i >= 1:\n",
    "                listB.append(i-1)\n",
    "            else:\n",
    "                listB.append(i)\n",
    "        listA = listB\n",
    "        if listA.count(0) == len(listA):\n",
    "            break\n",
    "\n",
    "    print(len(listA))"
   ]
  }
 ],
 "metadata": {
  "kernelspec": {
   "display_name": "Python 3 (ipykernel)",
   "language": "python",
   "name": "python3"
  },
  "language_info": {
   "codemirror_mode": {
    "name": "ipython",
    "version": 3
   },
   "file_extension": ".py",
   "mimetype": "text/x-python",
   "name": "python",
   "nbconvert_exporter": "python",
   "pygments_lexer": "ipython3",
   "version": "3.9.13"
  }
 },
 "nbformat": 4,
 "nbformat_minor": 5
}

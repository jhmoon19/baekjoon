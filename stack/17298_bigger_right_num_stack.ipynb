{
 "cells": [
  {
   "cell_type": "code",
   "execution_count": 1,
   "id": "extra-index",
   "metadata": {},
   "outputs": [
    {
     "name": "stdout",
     "output_type": "stream",
     "text": [
      "4\n",
      "3 5 2 7\n",
      "5 7 7 -1\n"
     ]
    }
   ],
   "source": [
    "# 17298: 오큰수 - 스택\n",
    "\n",
    "from collections import deque\n",
    "\n",
    "n = int(input())\n",
    "seq = list(map(int, input().split()))\n",
    "\n",
    "answer = [-1] * n\n",
    "stack = deque()\n",
    "\n",
    "for i in range(n):\n",
    "    while stack and (stack[-1][0] < seq[i]):\n",
    "        tmp, idx = stack.pop()\n",
    "        answer[idx] = seq[i]\n",
    "    stack.append((seq[i], i))\n",
    "    \n",
    "print(*answer)"
   ]
  }
 ],
 "metadata": {
  "kernelspec": {
   "display_name": "Python 3 (ipykernel)",
   "language": "python",
   "name": "python3"
  },
  "language_info": {
   "codemirror_mode": {
    "name": "ipython",
    "version": 3
   },
   "file_extension": ".py",
   "mimetype": "text/x-python",
   "name": "python",
   "nbconvert_exporter": "python",
   "pygments_lexer": "ipython3",
   "version": "3.9.13"
  }
 },
 "nbformat": 4,
 "nbformat_minor": 5
}

{
 "cells": [
  {
   "cell_type": "code",
   "execution_count": 1,
   "id": "toxic-optimum",
   "metadata": {},
   "outputs": [
    {
     "name": "stdout",
     "output_type": "stream",
     "text": [
      "A+B*C\n",
      "ABC*+\n"
     ]
    }
   ],
   "source": [
    "import sys\n",
    "\n",
    "notation = input()\n",
    "\n",
    "priority = {'+':0, '-':0, '*':1, '/':1, '(':-1}\n",
    "operations = []\n",
    "result = ''\n",
    "\n",
    "for c in notation:\n",
    "    if c.isupper():\n",
    "        result += c\n",
    "        continue\n",
    "        \n",
    "    if c == \"(\":\n",
    "        operations.append(c)\n",
    "    elif c == \")\":\n",
    "        while operations[-1] != \"(\":\n",
    "            result += operations.pop()\n",
    "        operations.pop()\n",
    "    else:\n",
    "        while operations and priority[operations[-1]] >= priority[c]:\n",
    "            result += operations.pop()\n",
    "        operations.append(c)\n",
    "    \n",
    "while operations:\n",
    "    result += operations.pop()\n",
    "    \n",
    "print(result)"
   ]
  }
 ],
 "metadata": {
  "kernelspec": {
   "display_name": "Python 3 (ipykernel)",
   "language": "python",
   "name": "python3"
  },
  "language_info": {
   "codemirror_mode": {
    "name": "ipython",
    "version": 3
   },
   "file_extension": ".py",
   "mimetype": "text/x-python",
   "name": "python",
   "nbconvert_exporter": "python",
   "pygments_lexer": "ipython3",
   "version": "3.9.13"
  }
 },
 "nbformat": 4,
 "nbformat_minor": 5
}

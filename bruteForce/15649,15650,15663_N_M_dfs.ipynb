{
 "cells": [
  {
   "cell_type": "code",
   "execution_count": 6,
   "id": "71d00e55",
   "metadata": {},
   "outputs": [
    {
     "name": "stdout",
     "output_type": "stream",
     "text": [
      "4 4\n",
      "1 2 3 4\n",
      "1 2 4 3\n",
      "1 3 2 4\n",
      "1 3 4 2\n",
      "1 4 2 3\n",
      "1 4 3 2\n",
      "2 1 3 4\n",
      "2 1 4 3\n",
      "2 3 1 4\n",
      "2 3 4 1\n",
      "2 4 1 3\n",
      "2 4 3 1\n",
      "3 1 2 4\n",
      "3 1 4 2\n",
      "3 2 1 4\n",
      "3 2 4 1\n",
      "3 4 1 2\n",
      "3 4 2 1\n",
      "4 1 2 3\n",
      "4 1 3 2\n",
      "4 2 1 3\n",
      "4 2 3 1\n",
      "4 3 1 2\n",
      "4 3 2 1\n"
     ]
    }
   ],
   "source": [
    "# 15649: N과 M(1)\n",
    "\n",
    "import itertools\n",
    "\n",
    "n,m = map(int, input().split())\n",
    "data = [i for i in range(1, n+1)]\n",
    "\n",
    "for i in itertools.permutations(data, m):\n",
    "    print(*i)"
   ]
  },
  {
   "cell_type": "code",
   "execution_count": 7,
   "id": "shaped-quebec",
   "metadata": {},
   "outputs": [
    {
     "name": "stdout",
     "output_type": "stream",
     "text": [
      "4 2\n",
      "1 2\n",
      "1 3\n",
      "1 4\n",
      "2 1\n",
      "2 3\n",
      "2 4\n",
      "3 1\n",
      "3 2\n",
      "3 4\n",
      "4 1\n",
      "4 2\n",
      "4 3\n"
     ]
    }
   ],
   "source": [
    "# 15649: N과 M(1) - dfs, 재귀, 스택\n",
    "\n",
    "n,m = map(int, input().split())\n",
    "stack = []\n",
    "\n",
    "def dfs():\n",
    "    if len(stack) == m:\n",
    "        print(' '.join(map(str, stack)))\n",
    "        return \n",
    "    \n",
    "    for i in range(1, n+1):\n",
    "        if i not in stack:\n",
    "            stack.append(i)\n",
    "            dfs()\n",
    "            stack.pop()\n",
    "            \n",
    "dfs()"
   ]
  },
  {
   "cell_type": "code",
   "execution_count": 17,
   "id": "overall-brake",
   "metadata": {},
   "outputs": [
    {
     "name": "stdout",
     "output_type": "stream",
     "text": [
      "3 3\n",
      "1 1 1\n",
      "1 1 2\n",
      "1 1 3\n",
      "1 2 2\n",
      "1 2 3\n",
      "1 3 3\n",
      "2 2 2\n",
      "2 2 3\n",
      "2 3 3\n",
      "3 3 3\n"
     ]
    }
   ],
   "source": [
    "n,m = map(int, input().split())\n",
    "stack = []\n",
    "\n",
    "def dfs(start):\n",
    "    if len(stack) == m:\n",
    "        print(' '.join(map(str, stack)))\n",
    "        return \n",
    "    \n",
    "    for i in range(start, n+1):\n",
    "        stack.append(i)\n",
    "        dfs(i)\n",
    "        stack.pop()\n",
    "            \n",
    "dfs(1)"
   ]
  },
  {
   "cell_type": "code",
   "execution_count": 28,
   "id": "casual-messaging",
   "metadata": {},
   "outputs": [
    {
     "name": "stdout",
     "output_type": "stream",
     "text": [
      "4 4\n",
      "1231 1232 1233 1234\n",
      "1231 1232 1233 1234\n",
      "1231 1232 1234 1233\n",
      "1231 1233 1232 1234\n",
      "1231 1233 1234 1232\n",
      "1231 1234 1232 1233\n",
      "1231 1234 1233 1232\n",
      "1232 1231 1233 1234\n",
      "1232 1231 1234 1233\n",
      "1232 1233 1231 1234\n",
      "1232 1233 1234 1231\n",
      "1232 1234 1231 1233\n",
      "1232 1234 1233 1231\n",
      "1233 1231 1232 1234\n",
      "1233 1231 1234 1232\n",
      "1233 1232 1231 1234\n",
      "1233 1232 1234 1231\n",
      "1233 1234 1231 1232\n",
      "1233 1234 1232 1231\n",
      "1234 1231 1232 1233\n",
      "1234 1231 1233 1232\n",
      "1234 1232 1231 1233\n",
      "1234 1232 1233 1231\n",
      "1234 1233 1231 1232\n",
      "1234 1233 1232 1231\n"
     ]
    }
   ],
   "source": [
    "n, m = map(int, input().split())\n",
    "data = list(map(int, input().split()))\n",
    "data.sort()\n",
    "stack = []\n",
    "\n",
    "def dfs():\n",
    "    if len(stack) == m:\n",
    "        print(' '.join(map(str, stack)))\n",
    "        return\n",
    "    \n",
    "    for i in data:\n",
    "        if i not in stack:\n",
    "            stack.append(i)\n",
    "            dfs()\n",
    "            stack.pop()\n",
    "            \n",
    "dfs()"
   ]
  },
  {
   "cell_type": "code",
   "execution_count": 39,
   "id": "silent-reserve",
   "metadata": {},
   "outputs": [
    {
     "name": "stdout",
     "output_type": "stream",
     "text": [
      "3 1\n",
      "4 5 2\n",
      "2\n",
      "4\n",
      "5\n"
     ]
    }
   ],
   "source": [
    "n, m = map(int, input().split())\n",
    "data = list(map(int, input().split()))\n",
    "data.sort()\n",
    "stack = []\n",
    "\n",
    "def dfs(start):\n",
    "    if len(stack) == m:\n",
    "        print(' '.join(map(str, stack)))\n",
    "        return\n",
    "    \n",
    "    for i in range(start, n):\n",
    "        stack.append(data[i])\n",
    "        dfs(i+1)\n",
    "        stack.pop()\n",
    "            \n",
    "dfs(0)"
   ]
  },
  {
   "cell_type": "code",
   "execution_count": 40,
   "id": "hairy-appliance",
   "metadata": {},
   "outputs": [
    {
     "name": "stdout",
     "output_type": "stream",
     "text": [
      "3 3\n",
      "1231 1232 1233\n",
      "1231 1231 1231\n",
      "1231 1231 1232\n",
      "1231 1231 1233\n",
      "1231 1232 1231\n",
      "1231 1232 1232\n",
      "1231 1232 1233\n",
      "1231 1233 1231\n",
      "1231 1233 1232\n",
      "1231 1233 1233\n",
      "1232 1231 1231\n",
      "1232 1231 1232\n",
      "1232 1231 1233\n",
      "1232 1232 1231\n",
      "1232 1232 1232\n",
      "1232 1232 1233\n",
      "1232 1233 1231\n",
      "1232 1233 1232\n",
      "1232 1233 1233\n",
      "1233 1231 1231\n",
      "1233 1231 1232\n",
      "1233 1231 1233\n",
      "1233 1232 1231\n",
      "1233 1232 1232\n",
      "1233 1232 1233\n",
      "1233 1233 1231\n",
      "1233 1233 1232\n",
      "1233 1233 1233\n"
     ]
    }
   ],
   "source": [
    "n, m = map(int, input().split())\n",
    "data = list(map(int, input().split()))\n",
    "data.sort()\n",
    "stack = []\n",
    "\n",
    "def dfs():\n",
    "    if len(stack) == m:\n",
    "        print(' '.join(map(str, stack)))\n",
    "        return\n",
    "    \n",
    "    for i in data:\n",
    "        stack.append(i)\n",
    "        dfs()\n",
    "        stack.pop()\n",
    "            \n",
    "dfs()"
   ]
  },
  {
   "cell_type": "code",
   "execution_count": 41,
   "id": "painted-falls",
   "metadata": {},
   "outputs": [
    {
     "name": "stdout",
     "output_type": "stream",
     "text": [
      "4 2\n",
      "9 8 7 1\n",
      "1 1\n",
      "1 7\n",
      "1 8\n",
      "1 9\n",
      "7 7\n",
      "7 8\n",
      "7 9\n",
      "8 8\n",
      "8 9\n",
      "9 9\n"
     ]
    }
   ],
   "source": [
    "n, m = map(int, input().split())\n",
    "data = list(map(int, input().split()))\n",
    "data.sort()\n",
    "stack = []\n",
    "\n",
    "def dfs(start):\n",
    "    if len(stack) == m:\n",
    "        print(' '.join(map(str, stack)))\n",
    "        return\n",
    "    \n",
    "    for i in range(start, n):\n",
    "        stack.append(data[i])\n",
    "        dfs(i)\n",
    "        stack.pop()\n",
    "            \n",
    "dfs(0)"
   ]
  },
  {
   "cell_type": "code",
   "execution_count": 14,
   "id": "manufactured-pathology",
   "metadata": {},
   "outputs": [
    {
     "name": "stdout",
     "output_type": "stream",
     "text": [
      "3 1\n",
      "4 4 2\n",
      "2\n",
      "4\n"
     ]
    }
   ],
   "source": [
    "n, m = map(int, input().split())\n",
    "data = list(map(int, input().split()))\n",
    "data.sort()\n",
    "\n",
    "stack = []\n",
    "visited = [False] * n\n",
    "\n",
    "def dfs(start):\n",
    "    \n",
    "    prev = 0\n",
    "    \n",
    "    if len(stack) == m:\n",
    "        print(' '.join(map(str, stack)))\n",
    "        return\n",
    "    \n",
    "    for i in range(start, n):\n",
    "        if data[i] != prev and visited[i] == False:\n",
    "            stack.append(data[i])\n",
    "            prev = data[i]\n",
    "            visited[i] = True\n",
    "            dfs(i+1)\n",
    "            stack.pop()\n",
    "            visited[i] = False\n",
    "            \n",
    "dfs(0)"
   ]
  },
  {
   "cell_type": "code",
   "execution_count": 6,
   "id": "pending-documentation",
   "metadata": {},
   "outputs": [
    {
     "name": "stdout",
     "output_type": "stream",
     "text": [
      "3 1\n",
      "4 4 2\n",
      "2\n",
      "4\n"
     ]
    }
   ],
   "source": [
    "# 15649: N과 M(1)\n",
    "\n",
    "import itertools\n",
    "\n",
    "n, m = map(int, input().split())\n",
    "data = list(map(int, input().split()))\n",
    "data.sort()\n",
    "record = set()\n",
    "\n",
    "for i in itertools.permutations(data, m):\n",
    "    if i not in record:\n",
    "        record.add(i)\n",
    "        print(*i)"
   ]
  },
  {
   "cell_type": "code",
   "execution_count": 15,
   "id": "cosmetic-charter",
   "metadata": {},
   "outputs": [
    {
     "name": "stdout",
     "output_type": "stream",
     "text": [
      "4 2\n",
      "9 7 9 1\n",
      "1 1\n",
      "1 7\n",
      "1 9\n",
      "7 1\n",
      "7 7\n",
      "7 9\n",
      "9 1\n",
      "9 7\n",
      "9 9\n"
     ]
    }
   ],
   "source": [
    "n, m = map(int, input().split())\n",
    "data = list(map(int, input().split()))\n",
    "data.sort()\n",
    "\n",
    "stack = []\n",
    "\n",
    "def dfs():\n",
    "    \n",
    "    prev = 0\n",
    "    \n",
    "    if len(stack) == m:\n",
    "        print(' '.join(map(str, stack)))\n",
    "        return\n",
    "    \n",
    "    for i in range(n):\n",
    "        if data[i] != prev:\n",
    "            stack.append(data[i])\n",
    "            prev = data[i]\n",
    "            dfs()\n",
    "            stack.pop()\n",
    "            \n",
    "dfs()"
   ]
  },
  {
   "cell_type": "code",
   "execution_count": 18,
   "id": "dominant-twenty",
   "metadata": {},
   "outputs": [
    {
     "name": "stdout",
     "output_type": "stream",
     "text": [
      "4 4\n",
      "1 1 2 2\n",
      "1 1 1 1\n",
      "1 1 1 2\n",
      "1 1 2 2\n",
      "1 2 2 2\n",
      "2 2 2 2\n"
     ]
    }
   ],
   "source": [
    "n, m = map(int, input().split())\n",
    "data = list(map(int, input().split()))\n",
    "data.sort()\n",
    "\n",
    "stack = []\n",
    "\n",
    "def dfs(start):\n",
    "    \n",
    "    prev = 0\n",
    "    \n",
    "    if len(stack) == m:\n",
    "        print(' '.join(map(str, stack)))\n",
    "        return\n",
    "    \n",
    "    for i in range(start, n):\n",
    "        if data[i] != prev:\n",
    "            stack.append(data[i])\n",
    "            prev = data[i]\n",
    "            dfs(i)\n",
    "            stack.pop()\n",
    "            \n",
    "dfs(0)"
   ]
  }
 ],
 "metadata": {
  "kernelspec": {
   "display_name": "Python 3 (ipykernel)",
   "language": "python",
   "name": "python3"
  },
  "language_info": {
   "codemirror_mode": {
    "name": "ipython",
    "version": 3
   },
   "file_extension": ".py",
   "mimetype": "text/x-python",
   "name": "python",
   "nbconvert_exporter": "python",
   "pygments_lexer": "ipython3",
   "version": "3.9.13"
  }
 },
 "nbformat": 4,
 "nbformat_minor": 5
}

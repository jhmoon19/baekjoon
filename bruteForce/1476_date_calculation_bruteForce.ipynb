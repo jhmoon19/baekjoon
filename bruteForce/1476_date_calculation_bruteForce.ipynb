{
 "cells": [
  {
   "cell_type": "code",
   "execution_count": 2,
   "id": "d9e459f9",
   "metadata": {},
   "outputs": [
    {
     "name": "stdout",
     "output_type": "stream",
     "text": [
      "15 28 19\n",
      "7980\n"
     ]
    }
   ],
   "source": [
    "# 1476: 날짜 계산 - 브루트포스, 수학\n",
    "\n",
    "e,s,m = map(int, input().split())\n",
    "check1 = 0 if e == 15 else e\n",
    "check2 = 0 if s == 28 else s\n",
    "check3 = 0 if m == 19 else m\n",
    "\n",
    "for i in range(1, 7981):\n",
    "    if i%15 == check1 and i%28 == check2 and i%19 == check3:\n",
    "        print(i)"
   ]
  }
 ],
 "metadata": {
  "kernelspec": {
   "display_name": "Python 3 (ipykernel)",
   "language": "python",
   "name": "python3"
  },
  "language_info": {
   "codemirror_mode": {
    "name": "ipython",
    "version": 3
   },
   "file_extension": ".py",
   "mimetype": "text/x-python",
   "name": "python",
   "nbconvert_exporter": "python",
   "pygments_lexer": "ipython3",
   "version": "3.9.13"
  }
 },
 "nbformat": 4,
 "nbformat_minor": 5
}

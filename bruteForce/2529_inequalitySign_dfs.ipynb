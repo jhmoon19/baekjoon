{
 "cells": [
  {
   "cell_type": "code",
   "execution_count": 25,
   "id": "upset-proxy",
   "metadata": {},
   "outputs": [
    {
     "name": "stdout",
     "output_type": "stream",
     "text": [
      "9\n",
      "> < < < > > > < <\n",
      "9567843012\n",
      "1023765489\n"
     ]
    }
   ],
   "source": [
    "# 2529: 부등호 - 브루트포스, 백트래킹, dfs, 재귀\n",
    "\n",
    "def dfs(level, ans):\n",
    "    if not level:\n",
    "        for i in range(10):\n",
    "            visited[i] = 1\n",
    "            dfs(level+1, ans+str(i))\n",
    "            visited[i] = 0\n",
    "            \n",
    "    else:\n",
    "        if level == k+1:\n",
    "            global max_ans, min_ans\n",
    "            max_ans = max(max_ans, ans)\n",
    "            min_ans = min(min_ans, ans)\n",
    "            return 0\n",
    "        \n",
    "        for i in range(10):\n",
    "            if visited[i]: continue\n",
    "            if ineq[level] == '<' and not int(ans[-1]) < i: continue\n",
    "            if ineq[level] == '>' and not int(ans[-1]) > i: continue\n",
    "                \n",
    "            visited[i] = 1\n",
    "            dfs(level+1, ans+str(i))\n",
    "            visited[i] = 0\n",
    "            \n",
    "# 부등호 개수\n",
    "k = int(input())\n",
    "\n",
    "# 부등호 정보\n",
    "ineq = [''] + list(input().split())\n",
    "\n",
    "# 숫자 사용 여부\n",
    "visited = [0] * 10\n",
    "\n",
    "max_ans = '0'\n",
    "min_ans = '999999999'\n",
    "\n",
    "dfs(0, '')\n",
    "\n",
    "print(max_ans)\n",
    "print(min_ans)"
   ]
  }
 ],
 "metadata": {
  "kernelspec": {
   "display_name": "Python 3 (ipykernel)",
   "language": "python",
   "name": "python3"
  },
  "language_info": {
   "codemirror_mode": {
    "name": "ipython",
    "version": 3
   },
   "file_extension": ".py",
   "mimetype": "text/x-python",
   "name": "python",
   "nbconvert_exporter": "python",
   "pygments_lexer": "ipython3",
   "version": "3.9.13"
  }
 },
 "nbformat": 4,
 "nbformat_minor": 5
}

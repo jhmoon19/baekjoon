{
 "cells": [
  {
   "cell_type": "code",
   "execution_count": 31,
   "id": "acute-february",
   "metadata": {},
   "outputs": [
    {
     "name": "stdout",
     "output_type": "stream",
     "text": [
      "6\n",
      "1 2 3 4 5 6\n",
      "2 1 1 1\n",
      "54\n",
      "-24\n"
     ]
    }
   ],
   "source": [
    "# 14888: 연산자 끼워넣기 - 브루트포스, 백트래킹, DFS\n",
    "\n",
    "n = int(input())\n",
    "data = list(map(int, input().split()))\n",
    "add, sub, mul, div = map(int, input().split())\n",
    "\n",
    "max_ans = float('-inf') # -1e9\n",
    "min_ans = float('inf') # 1e9\n",
    "\n",
    "def dfs(level, ans):\n",
    "    global add, sub, mul, div, max_ans, min_ans\n",
    "    \n",
    "    if level == n:\n",
    "        max_ans = max(max_ans, ans)\n",
    "        min_ans = min(min_ans, ans)\n",
    "    \n",
    "    else:\n",
    "        if add > 0:\n",
    "            add -= 1\n",
    "            dfs(level+1, ans+data[level])\n",
    "            add += 1\n",
    "        \n",
    "        if sub > 0:\n",
    "            sub -= 1\n",
    "            dfs(level+1, ans-data[level])\n",
    "            sub += 1\n",
    "            \n",
    "        if mul > 0:\n",
    "            mul -= 1\n",
    "            dfs(level+1, ans*data[level])\n",
    "            mul += 1\n",
    "            \n",
    "        if div > 0:\n",
    "            div -= 1\n",
    "            dfs(level+1, int(ans/data[level]))\n",
    "            div += 1\n",
    "            \n",
    "\n",
    "dfs(1, data[0])\n",
    "\n",
    "print(max_ans)\n",
    "print(min_ans)"
   ]
  },
  {
   "cell_type": "code",
   "execution_count": 23,
   "id": "mobile-victory",
   "metadata": {},
   "outputs": [
    {
     "name": "stdout",
     "output_type": "stream",
     "text": [
      "2\n",
      "5 6\n",
      "0 0 1 0\n",
      "30\n",
      "30\n"
     ]
    }
   ],
   "source": [
    "# 내가 푼 방식! --> 시간 초과 --> 왜??\n",
    "\n",
    "def dfs(level, ans):\n",
    "    global max_ans, min_ans\n",
    "    \n",
    "    if not level:\n",
    "        for i in range(len(oper)):\n",
    "            visited[i] = True\n",
    "            dfs(level+1, eval(f\"{ans}{oper[i]}{nums[level+1]}\"))\n",
    "            visited[i] = False\n",
    "    \n",
    "    else:\n",
    "        if level == n-1:\n",
    "            max_ans = max(max_ans, ans)\n",
    "            min_ans = min(min_ans, ans)\n",
    "            return\n",
    "\n",
    "        for i in range(len(oper)):\n",
    "            if visited[i]: continue\n",
    "            \n",
    "            visited[i] = True\n",
    "            if oper[i] == '//' and ans < 0:\n",
    "                dfs(level+1, -eval(f\"{-ans}{oper[i]}{nums[level+1]}\"))\n",
    "            else:\n",
    "                dfs(level+1, eval(f\"{ans}{oper[i]}{nums[level+1]}\"))\n",
    "            visited[i] = False\n",
    "        \n",
    "n = int(input())\n",
    "nums = list(map(int, input().split()))\n",
    "a,b,c,d = map(int, input().split())\n",
    "oper = list('+'*a)+list('-'*b)+list('*'*c)+['//']*d\n",
    "\n",
    "visited = [False] * (n-1)\n",
    "\n",
    "max_ans = float('-inf')\n",
    "min_ans = float('inf')\n",
    "\n",
    "dfs(0, nums[0])\n",
    "\n",
    "print(max_ans)\n",
    "print(min_ans)"
   ]
  }
 ],
 "metadata": {
  "kernelspec": {
   "display_name": "Python 3 (ipykernel)",
   "language": "python",
   "name": "python3"
  },
  "language_info": {
   "codemirror_mode": {
    "name": "ipython",
    "version": 3
   },
   "file_extension": ".py",
   "mimetype": "text/x-python",
   "name": "python",
   "nbconvert_exporter": "python",
   "pygments_lexer": "ipython3",
   "version": "3.9.13"
  }
 },
 "nbformat": 4,
 "nbformat_minor": 5
}

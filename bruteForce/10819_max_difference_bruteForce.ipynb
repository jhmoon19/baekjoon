{
 "cells": [
  {
   "cell_type": "code",
   "execution_count": 1,
   "id": "horizontal-philippines",
   "metadata": {},
   "outputs": [
    {
     "name": "stdout",
     "output_type": "stream",
     "text": [
      "6\n",
      "20 1 15 8 4 10\n",
      "62\n"
     ]
    }
   ],
   "source": [
    "# 10819: 차이를 최대로 - 순열\n",
    "\n",
    "from itertools import permutations\n",
    "\n",
    "def calc(nums):\n",
    "    s = 0\n",
    "    for i in range(len(nums)-1):\n",
    "        s += abs(nums[i] - nums[i+1])\n",
    "    return s\n",
    "\n",
    "n = int(input())\n",
    "data = list(map(int, input().split()))\n",
    "\n",
    "answer = float('-inf')\n",
    "\n",
    "for i in permutations(data, n):\n",
    "    answer = max(answer, calc(i))\n",
    "    \n",
    "print(answer)"
   ]
  }
 ],
 "metadata": {
  "kernelspec": {
   "display_name": "Python 3 (ipykernel)",
   "language": "python",
   "name": "python3"
  },
  "language_info": {
   "codemirror_mode": {
    "name": "ipython",
    "version": 3
   },
   "file_extension": ".py",
   "mimetype": "text/x-python",
   "name": "python",
   "nbconvert_exporter": "python",
   "pygments_lexer": "ipython3",
   "version": "3.9.13"
  }
 },
 "nbformat": 4,
 "nbformat_minor": 5
}

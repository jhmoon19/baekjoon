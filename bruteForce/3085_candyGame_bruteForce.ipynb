{
 "cells": [
  {
   "cell_type": "code",
   "execution_count": 1,
   "id": "33efc562",
   "metadata": {},
   "outputs": [
    {
     "name": "stdout",
     "output_type": "stream",
     "text": [
      "4\n",
      "PPPP\n",
      "CYZY\n",
      "CCPY\n",
      "CCPP\n",
      "4\n"
     ]
    }
   ],
   "source": [
    "# 3085: 사탕 게임 - 브루트포스\n",
    "\n",
    "N = int(input())\n",
    "board = [list(input()) for _ in range(N)]\n",
    "# print(board)\n",
    "# 리스트 안 리스트 --> 2차원 구조\n",
    "\n",
    "res = 1\n",
    "\n",
    "# 탐색\n",
    "def search():\n",
    "    global res\n",
    "    \n",
    "    # 오른쪽과 일치하는 개수 최대값 파악\n",
    "    for i in range(N):\n",
    "        cnt = 1\n",
    "        for j in range(1, N):\n",
    "            if board[i][j-1] == board[i][j]:\n",
    "                cnt += 1\n",
    "                res = max(cnt, res)\n",
    "            else:\n",
    "                cnt = 1\n",
    "    \n",
    "    # 아래쪽과 일치하는 개수 최대값 파악\n",
    "    for i in range(N):\n",
    "        cnt = 1\n",
    "        for j in range(1, N):\n",
    "            if board[j-1][i] == board[j][i]:\n",
    "                cnt += 1\n",
    "                res = max(cnt, res)\n",
    "            else:\n",
    "                cnt = 1\n",
    "                \n",
    "# 위치 변경\n",
    "for i in range(N):\n",
    "    for j in range(N):\n",
    "        if i < N-1:\n",
    "            board[i][j], board[i+1][j] = board[i+1][j], board[i][j]\n",
    "            search()\n",
    "            board[i][j], board[i+1][j] = board[i+1][j], board[i][j]\n",
    "            \n",
    "        if j < N-1:\n",
    "            board[i][j], board[i][j+1] = board[i][j+1], board[i][j]\n",
    "            search()\n",
    "            board[i][j], board[i][j+1] = board[i][j+1], board[i][j]\n",
    "            \n",
    "print(res)"
   ]
  }
 ],
 "metadata": {
  "kernelspec": {
   "display_name": "Python 3 (ipykernel)",
   "language": "python",
   "name": "python3"
  },
  "language_info": {
   "codemirror_mode": {
    "name": "ipython",
    "version": 3
   },
   "file_extension": ".py",
   "mimetype": "text/x-python",
   "name": "python",
   "nbconvert_exporter": "python",
   "pygments_lexer": "ipython3",
   "version": "3.9.13"
  }
 },
 "nbformat": 4,
 "nbformat_minor": 5
}

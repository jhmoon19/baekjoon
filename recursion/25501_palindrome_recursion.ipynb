{
 "cells": [
  {
   "cell_type": "code",
   "execution_count": 7,
   "id": "lightweight-branch",
   "metadata": {},
   "outputs": [
    {
     "name": "stdout",
     "output_type": "stream",
     "text": [
      "5\n",
      "AAA\n",
      "1 2\n",
      "ABBA\n",
      "1 3\n",
      "ABABA\n",
      "1 3\n",
      "ABCA\n",
      "0 2\n",
      "PALINDROME\n",
      "0 1\n"
     ]
    }
   ],
   "source": [
    "# 25501번 재귀의 귀재: 팰린드롬\n",
    "\n",
    "a = 0\n",
    "def recursion(s, l, r):\n",
    "    global a\n",
    "    if l >= r: \n",
    "        a += 1\n",
    "        return 1\n",
    "    elif s[l] != s[r]: \n",
    "        a += 1\n",
    "        return 0\n",
    "    else:\n",
    "        a += 1\n",
    "        return recursion(s, l+1, r-1)\n",
    "\n",
    "def isPalindrome(s):\n",
    "    return recursion(s, 0, len(s)-1)\n",
    "\n",
    "for _ in range(int(input())):\n",
    "    string = input()\n",
    "    print(isPalindrome(string), a)\n",
    "    a = 0"
   ]
  },
  {
   "cell_type": "code",
   "execution_count": 2,
   "id": "aware-season",
   "metadata": {},
   "outputs": [
    {
     "data": {
      "text/plain": [
       "3"
      ]
     },
     "execution_count": 2,
     "metadata": {},
     "output_type": "execute_result"
    }
   ],
   "source": [
    "# 재귀를 이용한 피보나치 수열 구현\n",
    "def rec(n):\n",
    "    if n == 1:\n",
    "        return 1\n",
    "    if n == 0:\n",
    "        return 0\n",
    "    return rec(n-1) + rec(n-2)\n",
    "\n",
    "rec(4)"
   ]
  }
 ],
 "metadata": {
  "kernelspec": {
   "display_name": "Python 3 (ipykernel)",
   "language": "python",
   "name": "python3"
  },
  "language_info": {
   "codemirror_mode": {
    "name": "ipython",
    "version": 3
   },
   "file_extension": ".py",
   "mimetype": "text/x-python",
   "name": "python",
   "nbconvert_exporter": "python",
   "pygments_lexer": "ipython3",
   "version": "3.9.13"
  }
 },
 "nbformat": 4,
 "nbformat_minor": 5
}

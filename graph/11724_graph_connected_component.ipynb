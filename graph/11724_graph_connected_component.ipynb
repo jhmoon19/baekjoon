{
 "cells": [
  {
   "cell_type": "markdown",
   "id": "annual-gabriel",
   "metadata": {},
   "source": [
    "# 11724번: 연결 요소의 개수\n",
    "- 실버 2"
   ]
  },
  {
   "cell_type": "markdown",
   "id": "simple-blues",
   "metadata": {},
   "source": [
    "## 시도4: 정답!! (548 ms)"
   ]
  },
  {
   "cell_type": "code",
   "execution_count": null,
   "id": "alert-spouse",
   "metadata": {},
   "outputs": [],
   "source": [
    "import sys\n",
    "sys.setrecursionlimit(1002)\n",
    "input = sys.stdin.readline\n",
    "\n",
    "n,m = map(int, input().split())\n",
    "\n",
    "graph = [[0]*(n+1) for _ in range(n+1)]\n",
    "visited = [0]*(n+1)\n",
    "\n",
    "for _ in range(m):\n",
    "    a,b = map(int, input().split())\n",
    "    graph[a][b] = graph[b][a] = 1\n",
    "\n",
    "def dfs(v):\n",
    "    visited[v] = 1\n",
    "    for i in range(1, n+1):\n",
    "        if visited[i] == 0 and graph[v][i] == 1:\n",
    "            dfs(i)\n",
    "\n",
    "comp = 0\n",
    "for i in range(1, n+1):\n",
    "    if visited[i] == 0:\n",
    "        dfs(i)\n",
    "        comp += 1\n",
    "\n",
    "print(comp)"
   ]
  },
  {
   "cell_type": "markdown",
   "id": "dying-mississippi",
   "metadata": {},
   "source": [
    "## 시도3: 런타임 에러 (RecursionError) \n",
    "- 최대 1천 개의 정점이 존재 가능\n",
    "- 재귀 깊이가 1천 --> 깊이제한 넘길 수 있음.\n",
    "- --> 재귀 깊이 늘려줘야 함. (sys.setrecursionlimit)"
   ]
  },
  {
   "cell_type": "code",
   "execution_count": 27,
   "id": "fantastic-copying",
   "metadata": {},
   "outputs": [
    {
     "name": "stdout",
     "output_type": "stream",
     "text": [
      "6 8\n",
      "1 2\n",
      "2 5\n",
      "5 1\n",
      "3 4\n",
      "4 6\n",
      "5 4\n",
      "2 4\n",
      "2 3\n",
      "1\n"
     ]
    }
   ],
   "source": [
    "n,m = map(int, input().split())\n",
    "\n",
    "graph = [[0]*(n+1) for _ in range(n+1)]\n",
    "visited = [0]*(n+1)\n",
    "\n",
    "for _ in range(m):\n",
    "    a,b = map(int, input().split())\n",
    "    graph[a][b] = graph[b][a] = 1\n",
    "\n",
    "def dfs(v):\n",
    "    visited[v] = 1\n",
    "    for i in range(1, n+1):\n",
    "        if visited[i] == 0 and graph[v][i] == 1:\n",
    "            dfs(i)\n",
    "\n",
    "comp = 0\n",
    "for i in range(1, n+1):\n",
    "    if visited[i] == 0:\n",
    "        dfs(i)\n",
    "        comp += 1\n",
    "\n",
    "print(comp)"
   ]
  },
  {
   "cell_type": "markdown",
   "id": "popular-elder",
   "metadata": {},
   "source": [
    "## 시도1: 처참한 실패 \n",
    "- dfs 반복 실패 <-- for-else 구문 "
   ]
  },
  {
   "cell_type": "code",
   "execution_count": 17,
   "id": "liberal-latest",
   "metadata": {},
   "outputs": [
    {
     "name": "stdout",
     "output_type": "stream",
     "text": [
      "6 5\n",
      "1 2\n",
      "2 5\n",
      "5 1\n",
      "3 4\n",
      "4 6\n",
      "1\n"
     ]
    }
   ],
   "source": [
    "n,m = map(int, input().split())\n",
    "\n",
    "graph = [[0]*(n+1) for _ in range(n+1)]\n",
    "visited = [0]*(n+1)\n",
    "\n",
    "for _ in range(m):\n",
    "    a,b = map(int, input().split())\n",
    "    graph[a][b] = graph[b][a] = 1\n",
    "\n",
    "comp = 1\n",
    "\n",
    "def search(v):\n",
    "    global comp\n",
    "    visited[v] = 1\n",
    "    \n",
    "    if visited == [0] + [1]*n:\n",
    "        return\n",
    "    else:\n",
    "        for i in range(v, n+1):\n",
    "            if visited[i]==0 and graph[v][i]==1:\n",
    "                search(i)\n",
    "        else:\n",
    "            if visited == [0] + [1]*n:\n",
    "                return\n",
    "            else:\n",
    "                for j in range(1, n+1):\n",
    "                    if visited[j]==0:\n",
    "                        search(j)\n",
    "                else:\n",
    "                    if visited == [0] + [1]*n:\n",
    "                        return\n",
    "                    else:\n",
    "                        comp += 1\n",
    "    \n",
    "search(1)\n",
    "print(comp)"
   ]
  },
  {
   "cell_type": "markdown",
   "id": "neutral-works",
   "metadata": {},
   "source": [
    "## 시도2: 참고 답안 (728 ms)"
   ]
  },
  {
   "cell_type": "code",
   "execution_count": 20,
   "id": "behind-legislature",
   "metadata": {},
   "outputs": [
    {
     "name": "stdout",
     "output_type": "stream",
     "text": [
      "6 8\n",
      "1 2\n",
      "2 5\n",
      "5 1\n",
      "3 4\n",
      "4 6\n",
      "5 4\n",
      "2 4\n",
      "2 3\n",
      "1\n"
     ]
    }
   ],
   "source": [
    "import sys\n",
    "sys.setrecursionlimit(1002)\n",
    "\n",
    "def dfs(c):\n",
    "    visited[c] = True\n",
    "\n",
    "    for n in d[c]:\n",
    "        if not visited[n]:\n",
    "            dfs(n)\n",
    "\n",
    "\n",
    "N, M = map(int, input().split())\n",
    "visited = [False] * (N + 1)\n",
    "d = dict((i + 1, []) for i in range(N))\n",
    "for _ in range(M):\n",
    "    a, b = map(int, input().split())\n",
    "    d[a].append(b)\n",
    "    d[b].append(a)\n",
    "\n",
    "cc = 0\n",
    "for i in range(1, N + 1):\n",
    "    if not visited[i]:\n",
    "        cc += 1\n",
    "        dfs(i)\n",
    "print(cc)"
   ]
  }
 ],
 "metadata": {
  "kernelspec": {
   "display_name": "Python 3",
   "language": "python",
   "name": "python3"
  },
  "language_info": {
   "codemirror_mode": {
    "name": "ipython",
    "version": 3
   },
   "file_extension": ".py",
   "mimetype": "text/x-python",
   "name": "python",
   "nbconvert_exporter": "python",
   "pygments_lexer": "ipython3",
   "version": "3.9.2"
  }
 },
 "nbformat": 4,
 "nbformat_minor": 5
}

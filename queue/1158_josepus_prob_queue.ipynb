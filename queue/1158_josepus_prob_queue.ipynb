{
 "cells": [
  {
   "cell_type": "code",
   "execution_count": 66,
   "id": "fitting-relationship",
   "metadata": {},
   "outputs": [
    {
     "name": "stdout",
     "output_type": "stream",
     "text": [
      "4 2\n",
      "<2, 4, 3, 1>\n"
     ]
    }
   ],
   "source": [
    "# 1158: 요세푸스 문제 - 큐\n",
    "\n",
    "n, k = map(int, input().split())\n",
    "\n",
    "num_ls = [i for i in range(1,n+1)]\n",
    "pointer = k-1\n",
    "\n",
    "curr_len = n\n",
    "permutation = []\n",
    "\n",
    "while num_ls:\n",
    "    permutation.append(num_ls.pop(pointer))\n",
    "    curr_len -= 1\n",
    "    if curr_len == 1:\n",
    "        permutation.append(num_ls[0])\n",
    "        break\n",
    "    else:\n",
    "        pointer = (pointer + (k-1)) % curr_len\n",
    "\n",
    "\n",
    "print(str(permutation).replace('[', '<').replace(']', '>'))"
   ]
  },
  {
   "cell_type": "code",
   "execution_count": 1,
   "id": "965f5c4d",
   "metadata": {},
   "outputs": [
    {
     "name": "stdout",
     "output_type": "stream",
     "text": [
      "7 3\n",
      "<3,6,2,7,5,1,4>\n"
     ]
    }
   ],
   "source": [
    "# 방법 2\n",
    "\n",
    "n, k = map(int, input().split())\n",
    "\n",
    "circle = [str(i+1) for i in range(n)]\n",
    "out = []\n",
    "\n",
    "for i in range(n):\n",
    "    out.append(circle[(k-1) % len(circle)])\n",
    "    circle = circle[(k-1) % len(circle) + 1:] + circle[:(k-1) % len(circle)]\n",
    "    \n",
    "print(\"<\" + ','.join(out) + \">\")"
   ]
  }
 ],
 "metadata": {
  "kernelspec": {
   "display_name": "Python 3 (ipykernel)",
   "language": "python",
   "name": "python3"
  },
  "language_info": {
   "codemirror_mode": {
    "name": "ipython",
    "version": 3
   },
   "file_extension": ".py",
   "mimetype": "text/x-python",
   "name": "python",
   "nbconvert_exporter": "python",
   "pygments_lexer": "ipython3",
   "version": "3.9.13"
  }
 },
 "nbformat": 4,
 "nbformat_minor": 5
}

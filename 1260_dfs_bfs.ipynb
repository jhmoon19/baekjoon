{
 "cells": [
  {
   "cell_type": "markdown",
   "id": "breathing-harassment",
   "metadata": {},
   "source": [
    "# 1260번: DFS와 BFS\n",
    "- 실버 2"
   ]
  },
  {
   "cell_type": "code",
   "execution_count": 9,
   "id": "ready-attendance",
   "metadata": {},
   "outputs": [
    {
     "name": "stdout",
     "output_type": "stream",
     "text": [
      "4 5 1\n",
      "1 2\n",
      "1 3\n",
      "1 4\n",
      "2 4\n",
      "3 4\n",
      "1 2 4 3 \n",
      "1 2 3 4 "
     ]
    }
   ],
   "source": [
    "from collections import deque\n",
    "\n",
    "# 깊이우선탐색 - 재귀\n",
    "def dfs(v):\n",
    "    visited_ls[v] = 1\n",
    "    print(v, end = ' ')\n",
    "    \n",
    "    for i in range(1, n+1):\n",
    "        if visited_ls[i] == 0 and graph[v][i] == 1:\n",
    "            dfs(i)\n",
    "\n",
    "# 너비우선탐색 - 큐\n",
    "def bfs(v):\n",
    "    q = deque()\n",
    "    q.append(v)\n",
    "    visited_ls2[v] = 1\n",
    "    \n",
    "    while q:  # 큐가 비었으면 종료\n",
    "        v = q.popleft()  # 큐에 먼저 저장된 노드 꺼내기&출력 \n",
    "        print(v, end = ' ')\n",
    "        # 시작점에서 갈 수 있는 가능한 점들 모두 큐 저장\n",
    "        for i in range(1, n+1):\n",
    "            if visited_ls2[i] == 0 and graph[v][i] == 1:\n",
    "                q.append(i)\n",
    "                visited_ls2[i] = 1\n",
    "\n",
    "n, m, v = map(int, input().split())\n",
    "# n: 노드 수, m: 간선 수, v: 시작 노드\n",
    "# 노드 : [1,2,3...n]   (1<=n<=1000)  (1<=m<=10000)\n",
    "\n",
    "# 그래프: (n+1)*(n+1) 행렬 속 간선 존재 유무 저장\n",
    "graph = [[0]*(n+1) for _ in range(n+1)]\n",
    "# dfs의 정점 방문 여부 표시 리스트\n",
    "visited_ls = [0] * (n+1)\n",
    "# bfs의 정점 방문 여부 표시 리스트\n",
    "visited_ls2 = [0] * (n+1)\n",
    "\n",
    "for _ in range(m):\n",
    "    a,b = map(int, input().split())\n",
    "    graph[a][b] = graph[b][a] = 1\n",
    "    # 노드 a와 b 사이 양방향 간선\n",
    "    # 출발 노드와 도착 노드 간에 길이 있음(1)\n",
    "\n",
    "dfs(v)\n",
    "print()\n",
    "bfs(v)"
   ]
  },
  {
   "cell_type": "code",
   "execution_count": 13,
   "id": "incorporate-machine",
   "metadata": {},
   "outputs": [
    {
     "data": {
      "text/plain": [
       "[[0, 0, 0, 0, 0],\n",
       " [0, 0, 1, 1, 1],\n",
       " [0, 1, 0, 0, 1],\n",
       " [0, 1, 0, 0, 1],\n",
       " [0, 1, 1, 1, 0]]"
      ]
     },
     "execution_count": 13,
     "metadata": {},
     "output_type": "execute_result"
    }
   ],
   "source": [
    "# ex. n=4, m=5, v=1\n",
    "# 간선: (1,2) (1,3) (1,4) (2,4) (3,4)\n",
    "\n",
    "graph"
   ]
  }
 ],
 "metadata": {
  "kernelspec": {
   "display_name": "Python 3",
   "language": "python",
   "name": "python3"
  },
  "language_info": {
   "codemirror_mode": {
    "name": "ipython",
    "version": 3
   },
   "file_extension": ".py",
   "mimetype": "text/x-python",
   "name": "python",
   "nbconvert_exporter": "python",
   "pygments_lexer": "ipython3",
   "version": "3.9.2"
  }
 },
 "nbformat": 4,
 "nbformat_minor": 5
}
